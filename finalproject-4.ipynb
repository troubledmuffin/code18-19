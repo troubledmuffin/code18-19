{
 "cells": [
  {
   "cell_type": "code",
   "execution_count": 34,
   "metadata": {},
   "outputs": [
    {
     "name": "stdout",
     "output_type": "stream",
     "text": [
      "Я сижу у холодной реки\n",
      "еки\n",
      "['Мановением белой руки', 'Видишь факелы Видишь дымки', 'Исступлённо запели смычки', 'Чуть заметным дрожаньем руки', 'Но молчанья были глубоки', 'Сквозь тайну женственной улыбки', 'Просились в сердце звуки скрипки', 'Ты твердо знаешь в книгах сказки', 'Что от муки любви и разлуки', 'Зари торжественные звуки', 'Задор свободы и разлуки', 'Пугливые сближались руки', 'Ее заломленные руки', 'Они застенчивы и чутки', 'Вдруг после болтовни и шутки', 'И голоса грудные звуки', 'Сирени темной в час разлуки']\n",
      "Вдруг после болтовни и шутки\n"
     ]
    }
   ],
   "source": [
    "import urllib.request\n",
    "import urllib.request\n",
    "import html\n",
    "import os\n",
    "import re\n",
    "import urllib.error\n",
    "import time\n",
    "import random \n",
    "from russtress import Accent\n",
    "try:\n",
    "    url = 'https://45parallel.net/aleksandr_blok/stihi/'\n",
    "    user_agent = 'Mozilla/5.0 (Windows NT 6.1; Win64; x64)'\n",
    "    req = urllib.request.Request(url, headers={'User-Agent':user_agent})\n",
    "    time.sleep(2)\n",
    "    with urllib.request.urlopen(req) as response:\n",
    "        txt = response.read().decode('utf-8')\n",
    "        text = html.unescape(txt)\n",
    "except:\n",
    "    print('Error at', url)\n",
    "\n",
    "\n",
    "o = []\n",
    "r = []\n",
    "symbols=\"\"\"(),.:;\"'—«!?/=–\\[]{}\"\"\"\n",
    "vowels = 'аАоОуУыЫэЭиИёЁяЯ'\n",
    "accent = Accent()\n",
    "a = re.findall(\"<p>(.*?)</p>\", text)\n",
    "d = input()\n",
    "l = sum(1 for x in d if x in 'еЕаАоОуУыЫэЭиИёЁяЯ')\n",
    "print(d[-3:])\n",
    "#d2 = accent.put_stress(elt)\n",
    "for i in a:\n",
    "    for s in symbols:\n",
    "        i = i.replace(s, '')\n",
    "    i = i.replace('\\xa0', '')\n",
    "    o.append(i)\n",
    "for elt in o:\n",
    "    if elt == '':\n",
    "        o.remove(elt)\n",
    "    elt = elt.replace (\"  \", \" \")\n",
    "#    elt = elt + '\\n'\n",
    "    e = sum(1 for x in elt if x in 'еЕаАоОуУыЫэЭиИёЁяЯ')\n",
    "#    if elt[0] == \" \":\n",
    "#       elt = elt.replace(elt[0], \"\")\n",
    "\n",
    "    if l == e and d[-2:] == elt[-2:]:\n",
    "        r.append(elt)\n",
    "print(random.choice(r))\n",
    "        \n",
    "\n",
    "    \n",
    "    \n",
    "    #accent = Accent()\n",
    "    #elt = accent.put_stress(elt)\n",
    "    #print(elt)\n",
    "\n",
    "    \n",
    "\n",
    "    \n",
    "\n",
    "\n",
    " "
   ]
  },
  {
   "cell_type": "code",
   "execution_count": null,
   "metadata": {},
   "outputs": [],
   "source": []
  },
  {
   "cell_type": "code",
   "execution_count": null,
   "metadata": {},
   "outputs": [],
   "source": []
  },
  {
   "cell_type": "code",
   "execution_count": null,
   "metadata": {},
   "outputs": [],
   "source": []
  }
 ],
 "metadata": {
  "kernelspec": {
   "display_name": "Python 3",
   "language": "python",
   "name": "python3"
  },
  "language_info": {
   "codemirror_mode": {
    "name": "ipython",
    "version": 3
   },
   "file_extension": ".py",
   "mimetype": "text/x-python",
   "name": "python",
   "nbconvert_exporter": "python",
   "pygments_lexer": "ipython3",
   "version": "3.6.5"
  }
 },
 "nbformat": 4,
 "nbformat_minor": 2
}
